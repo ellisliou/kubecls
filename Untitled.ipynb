{
 "cells": [
  {
   "cell_type": "code",
   "execution_count": 2,
   "id": "066a736f",
   "metadata": {},
   "outputs": [
    {
     "ename": "TabError",
     "evalue": "inconsistent use of tabs and spaces in indentation (2655834273.py, line 39)",
     "output_type": "error",
     "traceback": [
      "\u001b[0;36m  File \u001b[0;32m\"/tmp/ipykernel_426263/2655834273.py\"\u001b[0;36m, line \u001b[0;32m39\u001b[0m\n\u001b[0;31m    print(expectedResult,testResult)\u001b[0m\n\u001b[0m                                    ^\u001b[0m\n\u001b[0;31mTabError\u001b[0m\u001b[0;31m:\u001b[0m inconsistent use of tabs and spaces in indentation\n"
     ]
    }
   ],
   "source": [
    "import paramiko\n",
    "import csv\n",
    "import getpass\n",
    "import yaml\n",
    "from pandas import json_normalize\n",
    "import re\n",
    "\n",
    "a_yaml_file = open(\"compare_test_item.yaml\")\n",
    "parsed_yaml_file = yaml.load(a_yaml_file, Loader=yaml.FullLoader)\n",
    "ch = parsed_yaml_file[\"groups\"]\n",
    "test_item = ch[0][\"checks\"][0][\"tests\"][\"test_items\"][0]\n",
    "s = \"permissions=600\\n\"\n",
    "ssh = paramiko.SSHClient()\n",
    "ssh.set_missing_host_key_policy(paramiko.AutoAddPolicy())\n",
    "\n",
    "host = '192.168.30.68'\n",
    "user = 'k'\n",
    "pass1 = 'pp1234'\n",
    "ssh.connect(hostname=host, username=user, password=pass1, allow_agent = False)\n",
    "\n",
    "def evaluate(t,s):\n",
    "    flag = t[\"flag\"]\n",
    "    match, value, err = findValue(flag, s)\n",
    "    op = t[\"compare\"][\"op\"]\n",
    "    tCompareValue = t[\"compare\"][\"value\"]\n",
    "    expectedResult,testResult = compareOp(op, value, tCompareValue)\n",
    "    print(expectedResult,testResult)\n",
    "\n",
    "#compare function\n",
    "\n",
    "def compareOp(tCompareOp, flagVal, tCompareValue):\n",
    "\tif tCompareOp == \"gte\" or tCompareOp == \"gt\" or tCompareOp == \"lt\" or  tCompareOp == \"lte\":\n",
    "\t\tprint(tCompareOp)\n",
    "\telif tCompareOp == \"bitmask\":\n",
    "\t\trequested = int(flagVal,8)\n",
    "\t\tinputVal = int(tCompareValue,8)\n",
    "\t\ttestResult = (requested & inputVal) == requested\n",
    "\t\texpectedResult = requested = int(flagVal,8)\n",
    "        print(expectedResult,testResult)\n",
    "\telif tCompareOp == \"eq\":\n",
    "\t\tprint(tCompareOp)\n",
    "\telif tCompareOp == \"noteq\":\n",
    "\t\tprint(tCompareOp)\n",
    "\telif tCompareOp == \"has\":\n",
    "\t\tprint(tCompareOp)\n",
    "\treturn expectedResult,testResult\n",
    "\n",
    "#get the test value \n",
    "def findValue(flag,string):\n",
    "\tmatch = flag in string\n",
    "\tpttn = '(' + flag + ')(=|: *)*([^\\s]*) *'\n",
    "\tflagRe = re.compile(pttn)\n",
    "\tvals = flagRe.search(string)\n",
    "\tif vals != None:\n",
    "\t\terr = 0\n",
    "\t\tif vals[3] != \"\":\n",
    "\t\t\tvalue = vals[3]\n",
    "\t\telse:\n",
    "\t\t\tif flag.startswith(\"--\"):\n",
    "\t\t\t\tvalue = \"true\"\n",
    "\t\t\telse:\n",
    "\t\t\t\tvalue = vals[1]\n",
    "\telse:\n",
    "\t\terr = 1\n",
    "\t\tvalue = None\n",
    "\treturn match, value, err\n",
    "\n",
    "\n",
    "def main():\n",
    "    print(test_item)\n",
    "    evaluate(test_item,s)\n",
    "\n",
    "if __name__ == \"__main__\":\n",
    "    main()\n"
   ]
  },
  {
   "cell_type": "code",
   "execution_count": null,
   "id": "b4872c5c",
   "metadata": {},
   "outputs": [],
   "source": []
  }
 ],
 "metadata": {
  "kernelspec": {
   "display_name": "Python 3 (ipykernel)",
   "language": "python",
   "name": "python3"
  },
  "language_info": {
   "codemirror_mode": {
    "name": "ipython",
    "version": 3
   },
   "file_extension": ".py",
   "mimetype": "text/x-python",
   "name": "python",
   "nbconvert_exporter": "python",
   "pygments_lexer": "ipython3",
   "version": "3.9.8"
  }
 },
 "nbformat": 4,
 "nbformat_minor": 5
}
